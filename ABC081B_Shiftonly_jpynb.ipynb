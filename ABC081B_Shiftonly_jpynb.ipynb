{
  "nbformat": 4,
  "nbformat_minor": 0,
  "metadata": {
    "colab": {
      "name": "ABC081B-Shiftonly.jpynb",
      "provenance": [],
      "include_colab_link": true
    },
    "kernelspec": {
      "name": "python3",
      "display_name": "Python 3"
    }
  },
  "cells": [
    {
      "cell_type": "markdown",
      "metadata": {
        "id": "view-in-github",
        "colab_type": "text"
      },
      "source": [
        "<a href=\"https://colab.research.google.com/github/mnabu55/atcoder/blob/master/ABC081B_Shiftonly_jpynb.ipynb\" target=\"_parent\"><img src=\"https://colab.research.google.com/assets/colab-badge.svg\" alt=\"Open In Colab\"/></a>"
      ]
    },
    {
      "cell_type": "code",
      "metadata": {
        "id": "FZuyaAa54ei_",
        "colab_type": "code",
        "colab": {
          "base_uri": "https://localhost:8080/",
          "height": 68
        },
        "outputId": "8af906e2-6378-413f-9567-5970e97ca083"
      },
      "source": [
        "import numpy as np\n",
        "\n",
        "def isEven(list):\n",
        "    return_value = True\n",
        "    for element in list:\n",
        "        if element % 2 != 0:\n",
        "            return_value = False\n",
        "\n",
        "    return return_value\n",
        "\n",
        "\n",
        "N = input()\n",
        "number_str = input().split()\n",
        "\n",
        "a = []\n",
        "for elem in number_str:\n",
        "    a.append(int(elem))\n",
        "\n",
        "A = np.array(a)\n",
        "\n",
        "number_can_devide2 = 0\n",
        "while isEven(A) == True:\n",
        "    number_can_devide2 = number_can_devide2 + 1\n",
        "    A = A / 2\n",
        "\n",
        "print(number_can_devide2)"
      ],
      "execution_count": 14,
      "outputs": [
        {
          "output_type": "stream",
          "text": [
            "6\n",
            "382253568 723152896 37802240 379425024 404894720 471526144\n",
            "8\n"
          ],
          "name": "stdout"
        }
      ]
    },
    {
      "cell_type": "code",
      "metadata": {
        "id": "7mEie8Zh5x7t",
        "colab_type": "code",
        "colab": {}
      },
      "source": [
        ""
      ],
      "execution_count": 0,
      "outputs": []
    }
  ]
}