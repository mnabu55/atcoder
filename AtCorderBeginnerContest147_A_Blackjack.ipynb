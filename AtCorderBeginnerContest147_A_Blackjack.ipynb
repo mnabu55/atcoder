{
  "nbformat": 4,
  "nbformat_minor": 0,
  "metadata": {
    "colab": {
      "name": "AtCorderBeginnerContest147_A_Blackjack.ipynb",
      "provenance": [],
      "include_colab_link": true
    },
    "kernelspec": {
      "name": "python3",
      "display_name": "Python 3"
    }
  },
  "cells": [
    {
      "cell_type": "markdown",
      "metadata": {
        "id": "view-in-github",
        "colab_type": "text"
      },
      "source": [
        "<a href=\"https://colab.research.google.com/github/mnabu55/atcoder/blob/master/AtCorderBeginnerContest147_A_Blackjack.ipynb\" target=\"_parent\"><img src=\"https://colab.research.google.com/assets/colab-badge.svg\" alt=\"Open In Colab\"/></a>"
      ]
    },
    {
      "cell_type": "code",
      "metadata": {
        "id": "51qOYx6ZbAaL",
        "colab_type": "code",
        "colab": {
          "base_uri": "https://localhost:8080/",
          "height": 51
        },
        "outputId": "408bb66c-f5d1-4a67-be84-b1cfead6a6c6"
      },
      "source": [
        "def is_bust(value):\n",
        "    bust_value = 22\n",
        "    return_value = ''\n",
        "\n",
        "    if value >= bust_value:\n",
        "        return_value = 'bust'\n",
        "    else:\n",
        "        return_value = 'win'\n",
        "\n",
        "    return return_value\n",
        "        \n",
        "str = input().split()\n",
        "a1 = int(str[0])\n",
        "a2 = int(str[1])\n",
        "a3 = int(str[2])\n",
        "\n",
        "print(is_bust(a1 + a2 + a3))"
      ],
      "execution_count": 7,
      "outputs": [
        {
          "output_type": "stream",
          "text": [
            "11 1 10\n",
            "bust\n"
          ],
          "name": "stdout"
        }
      ]
    },
    {
      "cell_type": "code",
      "metadata": {
        "id": "L20y2h9WbbEZ",
        "colab_type": "code",
        "colab": {}
      },
      "source": [
        ""
      ],
      "execution_count": 0,
      "outputs": []
    }
  ]
}