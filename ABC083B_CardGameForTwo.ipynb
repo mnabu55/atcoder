{
  "nbformat": 4,
  "nbformat_minor": 0,
  "metadata": {
    "colab": {
      "name": "ABC083B_CardGameForTwo.ipynb",
      "provenance": [],
      "collapsed_sections": [],
      "include_colab_link": true
    },
    "kernelspec": {
      "name": "python3",
      "display_name": "Python 3"
    }
  },
  "cells": [
    {
      "cell_type": "markdown",
      "metadata": {
        "id": "view-in-github",
        "colab_type": "text"
      },
      "source": [
        "<a href=\"https://colab.research.google.com/github/mnabu55/atcoder/blob/master/ABC083B_CardGameForTwo.ipynb\" target=\"_parent\"><img src=\"https://colab.research.google.com/assets/colab-badge.svg\" alt=\"Open In Colab\"/></a>"
      ]
    },
    {
      "cell_type": "code",
      "metadata": {
        "id": "lEgNMwOgHmWM",
        "colab_type": "code",
        "outputId": "78fe3cd2-cb8e-4cf1-b2ea-d0de1a1d6313",
        "colab": {
          "base_uri": "https://localhost:8080/",
          "height": 54
        }
      },
      "source": [
        "'''\n",
        "問題文\n",
        "N 枚のカードがあります. i 枚目のカードには, ai という数が書かれています.\n",
        "Alice と Bob は, これらのカードを使ってゲームを行います. ゲームでは, Alice と Bob が交互に 1 枚ずつカードを取っていきます. Alice が先にカードを取ります.\n",
        "2 人がすべてのカードを取ったときゲームは終了し, 取ったカードの数の合計がその人の得点になります. 2 人とも自分の得点を最大化するように最適な戦略を取った時, Alice は Bob より何点多く取るか求めてください.\n",
        "\n",
        "制約\n",
        "N は1 以上 \n",
        "100 以下の整数\n",
        "ai(1≤i≤N)は1 以上100 以下の整数\n",
        "\n",
        "入力\n",
        "入力は以下の形式で標準入力から与えられる.'''"
      ],
      "execution_count": 1,
      "outputs": [
        {
          "output_type": "execute_result",
          "data": {
            "text/plain": [
              "'\\n問題文\\nN 枚のカードがあります. i 枚目のカードには, ai という数が書かれています.\\nAlice と Bob は, これらのカードを使ってゲームを行います. ゲームでは, Alice と Bob が交互に 1 枚ずつカードを取っていきます. Alice が先にカードを取ります.\\n2 人がすべてのカードを取ったときゲームは終了し, 取ったカードの数の合計がその人の得点になります. 2 人とも自分の得点を最大化するように最適な戦略を取った時, Alice は Bob より何点多く取るか求めてください.\\n\\n制約\\nN は1 以上 \\n100 以下の整数\\nai(1≤i≤N)は1 以上100 以下の整数\\n\\n入力\\n入力は以下の形式で標準入力から与えられる.'"
            ]
          },
          "metadata": {
            "tags": []
          },
          "execution_count": 1
        }
      ]
    },
    {
      "cell_type": "code",
      "metadata": {
        "id": "PuUbCgCmIa7a",
        "colab_type": "code",
        "outputId": "66919595-1803-4493-bc2b-c592f77578de",
        "colab": {
          "base_uri": "https://localhost:8080/",
          "height": 68
        }
      },
      "source": [
        "N = int(input())\n",
        "a_str = input().split()\n",
        "\n",
        "# 文字を数値に変換し降順にソートする\n",
        "a = [int(i) for i in a_str]\n",
        "a.sort(reverse=True)\n",
        "\n",
        "sum_alice = sum(a[0::2])\n",
        "sum_bob = sum(a[1::2])\n",
        "\n",
        "print(sum_alice - sum_bob)"
      ],
      "execution_count": 24,
      "outputs": [
        {
          "output_type": "stream",
          "text": [
            "4\n",
            "20 18 2 18\n",
            "18\n"
          ],
          "name": "stdout"
        }
      ]
    }
  ]
}