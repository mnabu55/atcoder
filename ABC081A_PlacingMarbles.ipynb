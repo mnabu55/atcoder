{
  "nbformat": 4,
  "nbformat_minor": 0,
  "metadata": {
    "colab": {
      "name": "ABC081A-PlacingMarbles.ipynb",
      "provenance": [],
      "include_colab_link": true
    },
    "kernelspec": {
      "name": "python3",
      "display_name": "Python 3"
    }
  },
  "cells": [
    {
      "cell_type": "markdown",
      "metadata": {
        "id": "view-in-github",
        "colab_type": "text"
      },
      "source": [
        "<a href=\"https://colab.research.google.com/github/mnabu55/atcoder/blob/master/ABC081A_PlacingMarbles.ipynb\" target=\"_parent\"><img src=\"https://colab.research.google.com/assets/colab-badge.svg\" alt=\"Open In Colab\"/></a>"
      ]
    },
    {
      "cell_type": "code",
      "metadata": {
        "id": "mikzIWR4r3Wt",
        "colab_type": "code",
        "colab": {
          "base_uri": "https://localhost:8080/",
          "height": 51
        },
        "outputId": "ee2bc0c3-354e-461c-b6cb-bbdfbae3f8f1"
      },
      "source": [
        "mass_str = input()\n",
        "\n",
        "num_ball = 0\n",
        "for mass in mass_str:\n",
        "    if mass == '1':\n",
        "        num_ball += 1\n",
        "\n",
        "print(num_ball)"
      ],
      "execution_count": 16,
      "outputs": [
        {
          "output_type": "stream",
          "text": [
            "101\n",
            "2\n"
          ],
          "name": "stdout"
        }
      ]
    }
  ]
}