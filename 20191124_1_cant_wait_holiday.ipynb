{
  "nbformat": 4,
  "nbformat_minor": 0,
  "metadata": {
    "colab": {
      "name": "20191124_1_cant_wait_holiday.ipynb",
      "provenance": [],
      "include_colab_link": true
    },
    "kernelspec": {
      "name": "python3",
      "display_name": "Python 3"
    }
  },
  "cells": [
    {
      "cell_type": "markdown",
      "metadata": {
        "id": "view-in-github",
        "colab_type": "text"
      },
      "source": [
        "<a href=\"https://colab.research.google.com/github/mnabu55/atcoder/blob/master/20191124_1_cant_wait_holiday.ipynb\" target=\"_parent\"><img src=\"https://colab.research.google.com/assets/colab-badge.svg\" alt=\"Open In Colab\"/></a>"
      ]
    },
    {
      "cell_type": "code",
      "metadata": {
        "id": "2Hi905h0PH5p",
        "colab_type": "code",
        "colab": {
          "base_uri": "https://localhost:8080/",
          "height": 51
        },
        "outputId": "916bd736-f2f1-4e93-a5b5-5e5e41731ae1"
      },
      "source": [
        "import sys\n",
        "\n",
        "how_many_days2next_sunday = {'SUN':7, 'MON':6, 'TUE':5, 'WED':4, 'THU':3, 'FRI':2, 'SAT':1}\n",
        "input_string = input()\n",
        "\n",
        "if input_string not in how_many_days2next_sunday:\n",
        "    sys.exit(1)\n",
        "    \n",
        "print(how_many_days2next_sunday[input_string])"
      ],
      "execution_count": 18,
      "outputs": [
        {
          "output_type": "stream",
          "text": [
            "TUE\n",
            "5\n"
          ],
          "name": "stdout"
        }
      ]
    }
  ]
}