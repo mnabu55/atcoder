{
  "nbformat": 4,
  "nbformat_minor": 0,
  "metadata": {
    "colab": {
      "name": "ABC086A - Product.ipynb",
      "provenance": [],
      "include_colab_link": true
    },
    "kernelspec": {
      "name": "python3",
      "display_name": "Python 3"
    }
  },
  "cells": [
    {
      "cell_type": "markdown",
      "metadata": {
        "id": "view-in-github",
        "colab_type": "text"
      },
      "source": [
        "<a href=\"https://colab.research.google.com/github/mnabu55/atcoder/blob/master/ABC086A_Product.ipynb\" target=\"_parent\"><img src=\"https://colab.research.google.com/assets/colab-badge.svg\" alt=\"Open In Colab\"/></a>"
      ]
    },
    {
      "cell_type": "code",
      "metadata": {
        "id": "clIErrBGDxKF",
        "colab_type": "code",
        "colab": {
          "base_uri": "https://localhost:8080/",
          "height": 54
        },
        "outputId": "22fb6e51-4d31-41bf-bf32-2e9ce2bfc814"
      },
      "source": [
        "\"\"\"\n",
        "問題\n",
        "入力は以下の形式で標準入力から与えられる。\n",
        "a b\n",
        "\n",
        "シカのAtCoDeerくんは二つの正整数 \n",
        "a,b\n",
        "を見つけました。 \n",
        "aとbの積が偶数か奇数か判定してください。\n",
        "\n",
        "制約\n",
        "1≤a,b≤10000\n",
        "a,bは整数\n",
        "\"\"\"\n"
      ],
      "execution_count": 2,
      "outputs": [
        {
          "output_type": "execute_result",
          "data": {
            "text/plain": [
              "'\\n問題\\n入力は以下の形式で標準入力から与えられる。\\na b\\n\\nシカのAtCoDeerくんは二つの正整数 \\na,b\\nを見つけました。 \\naとbの積が偶数か奇数か判定してください。\\n\\n制約\\n1≤a,b≤10000\\na,bは整数\\n'"
            ]
          },
          "metadata": {
            "tags": []
          },
          "execution_count": 2
        }
      ]
    },
    {
      "cell_type": "code",
      "metadata": {
        "id": "ZAfqEp3vEnIR",
        "colab_type": "code",
        "colab": {
          "base_uri": "https://localhost:8080/",
          "height": 51
        },
        "outputId": "5b50ff84-b998-4af7-a86b-0722876a8f92"
      },
      "source": [
        "import sys;\n",
        "\n",
        "def is_odd(number):\n",
        "    return number % 2 == 1\n",
        "\n",
        "str = input().split()\n",
        "a = int(str[0])\n",
        "b = int(str[1])\n",
        "\n",
        "if (a < 1) and (a > 10000) and (b < 1) and (b > 10000):\n",
        "    sys.exit(1)\n",
        "\n",
        "if is_odd(a * b) == True:\n",
        "    print(\"Odd\")\n",
        "else:\n",
        "    print(\"Even\")\n"
      ],
      "execution_count": 14,
      "outputs": [
        {
          "output_type": "stream",
          "text": [
            "3 3\n",
            "Odd\n"
          ],
          "name": "stdout"
        }
      ]
    },
    {
      "cell_type": "code",
      "metadata": {
        "id": "Jnws4N8aEzBL",
        "colab_type": "code",
        "colab": {}
      },
      "source": [
        ""
      ],
      "execution_count": 0,
      "outputs": []
    }
  ]
}