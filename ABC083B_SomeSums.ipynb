{
  "nbformat": 4,
  "nbformat_minor": 0,
  "metadata": {
    "colab": {
      "name": "ABC083B_SomeSums.ipynb",
      "provenance": [],
      "collapsed_sections": [],
      "include_colab_link": true
    },
    "kernelspec": {
      "name": "python3",
      "display_name": "Python 3"
    }
  },
  "cells": [
    {
      "cell_type": "markdown",
      "metadata": {
        "id": "view-in-github",
        "colab_type": "text"
      },
      "source": [
        "<a href=\"https://colab.research.google.com/github/mnabu55/atcoder/blob/master/ABC083B_SomeSums.ipynb\" target=\"_parent\"><img src=\"https://colab.research.google.com/assets/colab-badge.svg\" alt=\"Open In Colab\"/></a>"
      ]
    },
    {
      "cell_type": "code",
      "metadata": {
        "id": "lEgNMwOgHmWM",
        "colab_type": "code",
        "colab": {
          "base_uri": "https://localhost:8080/",
          "height": 54
        },
        "outputId": "71e4f6bf-6535-4241-8ba7-084668697e6e"
      },
      "source": [
        "'''\n",
        "問題文\n",
        "1 以上 N 以下の整数のうち、10進法での各桁の和がA以上B以下であるものの総和を求めてください。\n",
        "\n",
        "制約\n",
        "1≤N≤10^4\n",
        "1≤A≤B≤36\n",
        "入力はすべて整数である\n",
        "\n",
        "入力\n",
        "入力は以下の形式で標準入力から与えられる。\n",
        "N A B\n",
        "'''"
      ],
      "execution_count": 39,
      "outputs": [
        {
          "output_type": "execute_result",
          "data": {
            "text/plain": [
              "'\\n問題文\\n1 以上 N 以下の整数のうち、10進法での各桁の和がA以上B以下であるものの総和を求めてください。\\n\\n制約\\n1≤N≤10^4\\n1≤A≤B≤36\\n入力はすべて整数である\\n\\n入力\\n入力は以下の形式で標準入力から与えられる。\\nN A B\\n'"
            ]
          },
          "metadata": {
            "tags": []
          },
          "execution_count": 39
        }
      ]
    },
    {
      "cell_type": "code",
      "metadata": {
        "id": "PuUbCgCmIa7a",
        "colab_type": "code",
        "colab": {
          "base_uri": "https://localhost:8080/",
          "height": 34
        },
        "outputId": "0b2fa691-0e6a-487e-d2b1-d625732aa242"
      },
      "source": [
        "import numpy as np\n",
        "\n",
        "input_string = input().split()\n",
        "\n",
        "N = int(input_string[0])\n",
        "A = int(input_string[1])\n",
        "B = int(input_string[2])\n",
        "\n",
        "sum = 0\n",
        "i = 0\n",
        "while i <= N:\n",
        "    digits = np.zeros(5)\n",
        "    j = 0\n",
        "    temp = i\n",
        "    while j < 5:\n",
        "        digits[j] = temp % 10\n",
        "        temp = temp // 10\n",
        "        j += 1\n",
        "    sum_each_digits = digits.sum()\n",
        "    if A <= sum_each_digits and sum_each_digits <= B:\n",
        "        sum = sum + i\n",
        "    i += 1\n",
        "\n",
        "print(sum)"
      ],
      "execution_count": 35,
      "outputs": [
        {
          "output_type": "stream",
          "text": [
            "84\n"
          ],
          "name": "stdout"
        }
      ]
    }
  ]
}