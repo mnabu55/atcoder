{
  "nbformat": 4,
  "nbformat_minor": 0,
  "metadata": {
    "colab": {
      "name": "AtCorderBeginnerContest147_B_Palindrome-philia.ipynb",
      "provenance": [],
      "include_colab_link": true
    },
    "kernelspec": {
      "name": "python3",
      "display_name": "Python 3"
    }
  },
  "cells": [
    {
      "cell_type": "markdown",
      "metadata": {
        "id": "view-in-github",
        "colab_type": "text"
      },
      "source": [
        "<a href=\"https://colab.research.google.com/github/mnabu55/atcoder/blob/master/AtCorderBeginnerContest147_B_Palindrome_philia.ipynb\" target=\"_parent\"><img src=\"https://colab.research.google.com/assets/colab-badge.svg\" alt=\"Open In Colab\"/></a>"
      ]
    },
    {
      "cell_type": "code",
      "metadata": {
        "id": "ILDWHapYqb5v",
        "colab_type": "code",
        "colab": {
          "base_uri": "https://localhost:8080/",
          "height": 51
        },
        "outputId": "793e3adb-8934-4242-d29f-638ae16cbd04"
      },
      "source": [
        "str = input()\n",
        "\n",
        "reverse_str = str[::-1]\n",
        "num_changed = 0\n",
        "repeat_time = len(str) / 2\n",
        "\n",
        "i = 0\n",
        "while i < repeat_time:\n",
        "    if str[i] != reverse_str[i]:\n",
        "        num_changed += 1\n",
        "    i += 1\n",
        "\n",
        "print(num_changed)"
      ],
      "execution_count": 9,
      "outputs": [
        {
          "output_type": "stream",
          "text": [
            "abcdabc\n",
            "2\n"
          ],
          "name": "stdout"
        }
      ]
    },
    {
      "cell_type": "code",
      "metadata": {
        "id": "mikzIWR4r3Wt",
        "colab_type": "code",
        "colab": {}
      },
      "source": [
        ""
      ],
      "execution_count": 0,
      "outputs": []
    }
  ]
}