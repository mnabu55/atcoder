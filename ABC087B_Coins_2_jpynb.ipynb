{
  "nbformat": 4,
  "nbformat_minor": 0,
  "metadata": {
    "colab": {
      "name": "ABC087B_Coins_2.jpynb",
      "provenance": [],
      "include_colab_link": true
    },
    "kernelspec": {
      "name": "python3",
      "display_name": "Python 3"
    }
  },
  "cells": [
    {
      "cell_type": "markdown",
      "metadata": {
        "id": "view-in-github",
        "colab_type": "text"
      },
      "source": [
        "<a href=\"https://colab.research.google.com/github/mnabu55/atcoder/blob/master/ABC087B_Coins_2_jpynb.ipynb\" target=\"_parent\"><img src=\"https://colab.research.google.com/assets/colab-badge.svg\" alt=\"Open In Colab\"/></a>"
      ]
    },
    {
      "cell_type": "code",
      "metadata": {
        "id": "BH9hHlGZxLci",
        "colab_type": "code",
        "colab": {
          "base_uri": "https://localhost:8080/",
          "height": 102
        },
        "outputId": "306e2383-184b-4037-d29d-6dc3132b0bdd"
      },
      "source": [
        "import numpy as np\n",
        "\n",
        "A = int(input())\n",
        "B = int(input())\n",
        "C = int(input())\n",
        "X = int(input())\n",
        "\n",
        "unit_a = 500\n",
        "unit_b = 100\n",
        "unit_c = 50\n",
        "\n",
        "num_pattern = 0\n",
        "for a in np.arange(0, A+1):\n",
        "    temp1 = unit_a * a\n",
        "    if temp1 > X:\n",
        "        break\n",
        "    for b in np.arange(0, B+1):\n",
        "        temp2 = unit_a * a + unit_b * b\n",
        "        if temp2 > X:\n",
        "            break\n",
        "        for c in np.arange(0, C+1):\n",
        "            total = unit_a * a + unit_b * b + unit_c * c\n",
        "            if total > X:\n",
        "                break\n",
        "            elif total == X:\n",
        "                num_pattern += 1\n",
        "\n",
        "print(num_pattern)"
      ],
      "execution_count": 20,
      "outputs": [
        {
          "output_type": "stream",
          "text": [
            "30\n",
            "40\n",
            "50\n",
            "6000\n",
            "213\n"
          ],
          "name": "stdout"
        }
      ]
    }
  ]
}